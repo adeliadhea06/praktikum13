import requests
from bs4 import BeautifulSoup
import pandas as pd


URL = "https://jadwalsholat.org/jadwal-sholat/monthly.php"
page = requests.get(URL)

soup = BeautifulSoup(page.content, "html.parser")
jadwal = soup.select('.table_highlight td')
for waktu in jadwal:
  print(waktu.text)
